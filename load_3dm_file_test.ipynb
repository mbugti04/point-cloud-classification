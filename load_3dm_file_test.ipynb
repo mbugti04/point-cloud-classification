{
 "cells": [
  {
   "cell_type": "code",
   "execution_count": null,
   "metadata": {},
   "outputs": [],
   "source": [
    "import trimesh\n",
    "import torch\n",
    "from torch_geometric.data import Data\n",
    "import matplotlib.pyplot as plt\n",
    "import numpy as np\n",
    "import rhino3dm\n",
    "import requests  # pip install requests\n",
    "\n",
    "def mesh_to_trimesh():\n",
    "    # get file NYC_3DModel_MN01.3dm from local folder\n",
    "    model = rhino3dm.File3dm.Read(\"NYC_3DModel_MN01.3dm\")\n",
    "\n",
    "    for obj in model.Objects:\n",
    "            geometry = obj.Geometry\n",
    "            if isinstance(geometry, rhino3dm.Brep):\n",
    "                brep = geometry\n",
    "                face = brep.Faces[0]\n",
    "                mesh = face.GetMesh(rhino3dm.MeshType.Any)\n",
    "                # print (len(mesh.Faces))\n",
    "                print(mesh)\n",
    "\n",
    "    return\n",
    "\n",
    "def load_2():\n",
    "    scene = trimesh.load(\"NYC_3DModel_MN01.3dm\")\n",
    "\n",
    "# combined_vertices = load()\n",
    "# vertices_array = np.array(combined_vertices)\n",
    "# trimesh_obj = trimesh.Trimesh(vertices=vertices_array)\n",
    "\n",
    "#  trimesh_obj = trimesh.Trimesh(vertices=combined_vertices)\n",
    "# combined_mesh = trimesh.util.concatenate(combined_mesh)\n"
   ]
  },
  {
   "cell_type": "code",
   "execution_count": null,
   "metadata": {},
   "outputs": [],
   "source": [
    "def load_model():\n",
    "     return rhino3dm.File3dm.Read(\"NYC_3DModel_MN01.3dm\")\n",
    "\n",
    "model = load_model()"
   ]
  },
  {
   "cell_type": "code",
   "execution_count": null,
   "metadata": {},
   "outputs": [],
   "source": [
    "def process_3dm(model):\n",
    "    combined_vertices = []\n",
    "\n",
    "    for obj in model.Objects:\n",
    "        geometry = obj.Geometry\n",
    "        if isinstance(geometry, rhino3dm.Brep):\n",
    "            brep = geometry\n",
    "            faces = brep.Faces\n",
    "            \n",
    "            for face in faces:\n",
    "                mesh = face.GetMesh(rhino3dm.MeshType.Any)\n",
    "                vertices = [[vertex.X, vertex.Y, vertex.Z] for vertex in mesh.Vertices]\n",
    "                for vertex in vertices:\n",
    "                    combined_vertices.append(vertex)\n",
    "\n",
    "            # face = brep.Faces[0]\n",
    "            # mesh = face.GetMesh(rhino3dm.MeshType.Any)\n",
    "            # # print (len(mesh.Faces))\n",
    "            # # print(mesh)\n",
    "            # vertices = [[vertex.X, vertex.Y, vertex.Z] for vertex in mesh.Vertices]\n",
    "            # # print(vertices)\n",
    "            # faces = [face for face in mesh.Faces]\n",
    "            # # trimesh_mesh = trimesh.Trimesh(vertices=vertices)\n",
    "\n",
    "            # for vertex in vertices:\n",
    "            #     combined_vertices.append(vertex)\n",
    "\n",
    "            # # break\n",
    "            # # return trimesh_mesh\n",
    "\n",
    "    return combined_vertices\n",
    "\n",
    "vertices = process_3dm(model)"
   ]
  },
  {
   "cell_type": "code",
   "execution_count": null,
   "metadata": {},
   "outputs": [],
   "source": [
    "normalized_vertices = np.array(vertices)\n",
    "# for each axis, subtract the min value\n",
    "normalized_vertices -= normalized_vertices.min(axis=0)\n",
    "\n",
    "print(normalized_vertices)"
   ]
  },
  {
   "cell_type": "code",
   "execution_count": null,
   "metadata": {},
   "outputs": [],
   "source": [
    "# plot vertices in 3D\n",
    "fig = plt.figure()\n",
    "ax = fig.add_subplot(111, projection='3d')\n",
    "ax.scatter(normalized_vertices[:,0], normalized_vertices[:,1], normalized_vertices[:,2], s=0.001)  # Adjust the value of 's' to make the points smaller\n",
    "plt.show()\n"
   ]
  }
 ],
 "metadata": {
  "kernelspec": {
   "display_name": ".venv",
   "language": "python",
   "name": "python3"
  },
  "language_info": {
   "codemirror_mode": {
    "name": "ipython",
    "version": 3
   },
   "file_extension": ".py",
   "mimetype": "text/x-python",
   "name": "python",
   "nbconvert_exporter": "python",
   "pygments_lexer": "ipython3",
   "version": "3.12.4"
  }
 },
 "nbformat": 4,
 "nbformat_minor": 2
}
