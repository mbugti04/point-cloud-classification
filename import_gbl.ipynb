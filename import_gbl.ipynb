{
 "cells": [
  {
   "cell_type": "code",
   "execution_count": null,
   "metadata": {},
   "outputs": [],
   "source": [
    "import trimesh\n",
    "import torch\n",
    "from torch_geometric.data import Data\n",
    "import matplotlib.pyplot as plt\n",
    "\n",
    "\n",
    "# Load the object\n",
    "# scene = trimesh.load(\"data/temp_data/jet_fighter.glb\")\n",
    "\n",
    "geometries = list(scene.geometry.values())\n",
    "# Combine all geometries as they may be separated\n",
    "combined_geometry = trimesh.util.concatenate(geometries)\n",
    "geometry = combined_geometry\n",
    "\n",
    "# Extract vertices and faces\n",
    "vertices = geometry.vertices\n",
    "faces = geometry.faces\n",
    "\n",
    "# Convert to PyTorch tensors\n",
    "pos = torch.tensor(vertices, dtype=torch.float)\n",
    "face = torch.tensor(faces.T, dtype=torch.long)  # Transpose to match PyTorch Geometric format\n",
    "\n",
    "# Create a PyTorch Geometric data object\n",
    "data = Data(pos=pos, face=face)\n",
    "\n",
    "# Print the data object to verify\n",
    "print(data)"
   ]
  },
  {
   "cell_type": "code",
   "execution_count": null,
   "metadata": {},
   "outputs": [],
   "source": [
    "plt.show()\n",
    "fig = plt.figure()\n",
    "ax = fig.add_subplot(111, projection='3d')\n",
    "ax.plot_trisurf(data.pos[:, 0], data.pos[:, 1], data.pos[:, 2], triangles=data.face.T)\n",
    "ax.auto_scale_xyz(data.pos[:, 0], data.pos[:, 1], data.pos[:, 2])\n",
    "ax.set_xlabel('X')\n",
    "ax.set_ylabel('Y')\n",
    "ax.set_zlabel('Z')\n",
    "plt.show()"
   ]
  },
  {
   "cell_type": "code",
   "execution_count": null,
   "metadata": {},
   "outputs": [],
   "source": [
    "scene.show()"
   ]
  }
 ],
 "metadata": {
  "kernelspec": {
   "display_name": ".venv",
   "language": "python",
   "name": "python3"
  },
  "language_info": {
   "codemirror_mode": {
    "name": "ipython",
    "version": 3
   },
   "file_extension": ".py",
   "mimetype": "text/x-python",
   "name": "python",
   "nbconvert_exporter": "python",
   "pygments_lexer": "ipython3",
   "version": "3.12.4"
  }
 },
 "nbformat": 4,
 "nbformat_minor": 2
}
