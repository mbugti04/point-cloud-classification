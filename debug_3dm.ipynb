{
 "cells": [
  {
   "cell_type": "code",
   "execution_count": null,
   "metadata": {},
   "outputs": [],
   "source": [
    "%matplotlib widget \n",
    "import json\n",
    "import matplotlib.pyplot as plt\n",
    "import numpy as np\n",
    "import rhino3dm\n",
    "import torch\n",
    "import torch_geometric.transforms as T\n",
    "from torch_geometric.transforms import KNNGraph\n",
    "from torch_geometric.data import Data\n",
    "from torch_geometric.loader import DataLoader\n",
    "import os\n",
    "import gc\n",
    "import memory_profiler"
   ]
  },
  {
   "cell_type": "code",
   "execution_count": null,
   "metadata": {},
   "outputs": [],
   "source": [
    "def load_model(file_name):\n",
    "     return rhino3dm.File3dm.Read(file_name)"
   ]
  },
  {
   "cell_type": "code",
   "execution_count": null,
   "metadata": {},
   "outputs": [],
   "source": [
    "path1 = r\"C:\\Users\\musta\\Downloads\\nyc_3dmodel_bx01\\NYC_3DModel_BX01.3dm\"\n",
    "model1 = load_model(path1)\n",
    "path2 = r\"C:\\Users\\musta\\Downloads\\nyc_3dmodel_bx02\\NYC_3DModel_BX02.3dm\"\n",
    "model2 = load_model(path2)"
   ]
  },
  {
   "cell_type": "code",
   "execution_count": 60,
   "metadata": {},
   "outputs": [],
   "source": [
    "# Extracts vertices for .3dm model\n",
    "def process_3dm(model):\n",
    "    combined_vertices = []\n",
    "\n",
    "    if model is not None:\n",
    "        for obj in model.Objects:\n",
    "            geometry = obj.Geometry\n",
    "            # objects in the NYC dataset are either breps or polylinecurves\n",
    "            if isinstance(geometry, rhino3dm.Brep):\n",
    "                brep = geometry\n",
    "                vertices = [[vertex.Location.X, vertex.Location.Y, vertex.Location.Z] for vertex in brep.Vertices]\n",
    "                for vertex in vertices:\n",
    "                    combined_vertices.append(vertex)\n",
    "\n",
    "    return combined_vertices"
   ]
  },
  {
   "cell_type": "code",
   "execution_count": 61,
   "metadata": {},
   "outputs": [],
   "source": [
    "vertices1 = process_3dm(model1)\n",
    "vertices2= process_3dm(model2)\n",
    "\n",
    "# print shape of vertices\n",
    "# print(f\"len1: {len(vertices1)}\")\n",
    "# print(f\"len2: {len(vertices1[0])}\")\n",
    "# print(len(vertices1))\n",
    "# print(len(vertices2))\n",
    "\n",
    "# if vertices1:\n",
    "#     print(vertices1[0])\n",
    "# else:\n",
    "#     print(vertices1)\n",
    "\n",
    "# if vertices2:\n",
    "#     print(vertices2[0])\n",
    "# else:\n",
    "#     print(vertices2)"
   ]
  },
  {
   "cell_type": "code",
   "execution_count": null,
   "metadata": {},
   "outputs": [],
   "source": [
    "normalized_vertices = vertices2\n",
    "normalized_vertices = np.array(normalized_vertices)\n",
    "normalized_vertices = normalized_vertices[::10]\n",
    "# plot vertices in 3D\n",
    "# fig = plt.figure()\n",
    "# ax = fig.add_subplot(111, projection='3d')\n",
    "# ax.scatter(normalized_vertices[:,0], normalized_vertices[:,1], normalized_vertices[:,2], s=0.1)  # Adjust the value of 's' to make the points smaller\n",
    "# plt.show()\n",
    "\n",
    "fig = plt.figure()\n",
    "ax = fig.add_subplot(111, projection='3d')\n",
    "sc = ax.scatter(normalized_vertices[:,0], normalized_vertices[:,1], normalized_vertices[:,2], c=normalized_vertices[:,2], cmap='viridis', s=0.1)  # Adjust the value of 's' to make the points smaller\n",
    "# plt.colorbar(sc, ax=ax, label='Depth (z-coordinate)')\n",
    "plt.show()"
   ]
  }
 ],
 "metadata": {
  "kernelspec": {
   "display_name": ".venv",
   "language": "python",
   "name": "python3"
  },
  "language_info": {
   "codemirror_mode": {
    "name": "ipython",
    "version": 3
   },
   "file_extension": ".py",
   "mimetype": "text/x-python",
   "name": "python",
   "nbconvert_exporter": "python",
   "pygments_lexer": "ipython3",
   "version": "3.12.4"
  }
 },
 "nbformat": 4,
 "nbformat_minor": 2
}
