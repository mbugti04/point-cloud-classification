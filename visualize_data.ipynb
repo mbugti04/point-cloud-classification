{
 "cells": [
  {
   "cell_type": "code",
   "execution_count": null,
   "metadata": {},
   "outputs": [],
   "source": [
    "# %matplotlib widget \n",
    "import process_3dm_file\n",
    "import numpy as np\n",
    "import matplotlib.pyplot as plt\n",
    "\n",
    "SAMPLES = 32768\n",
    "\n",
    "file_path = r\"data\\NYC\\nyc_3dmodel_mn01\\NYC_3DModel_MN01.json\"\n",
    "vertices = np.array(process_3dm_file.load_from_json(file_path))"
   ]
  },
  {
   "cell_type": "code",
   "execution_count": null,
   "metadata": {},
   "outputs": [],
   "source": [
    "if SAMPLES != -1:\n",
    "    # if vertices has less than x vertices, pad with zeros\n",
    "    if len(vertices) < SAMPLES:\n",
    "        vertices += [[0, 0, 0]] * (SAMPLES - len(vertices))\n",
    "    # select x random vertices\n",
    "    vertices = vertices[np.random.choice(vertices.shape[0], SAMPLES, replace=False)]\n",
    "\n",
    "# vertices = vertices[::10]"
   ]
  },
  {
   "cell_type": "code",
   "execution_count": null,
   "metadata": {},
   "outputs": [],
   "source": [
    "fig = plt.figure()\n",
    "ax = fig.add_subplot(111, projection='3d')\n",
    "sc = ax.scatter(vertices[:,0], vertices[:,1], vertices[:,2], c=vertices[:,2], cmap='viridis', s=0.01)  # Adjust the value of 's' to make the points smaller\n",
    "# plt.colorbar(sc, ax=ax, label='Depth (z-coordinate)')\n",
    "ax.set_zlim(0, 750)\n",
    "plt.show()"
   ]
  },
  {
   "cell_type": "code",
   "execution_count": null,
   "metadata": {},
   "outputs": [],
   "source": [
    "# plot from a top down view\n",
    "fig = plt.figure()\n",
    "ax = fig.add_subplot(111)\n",
    "ax.scatter(vertices[:,0], vertices[:,1], c=vertices[:,2], cmap='viridis', s=0.1)  # Adjust the value of 's' to make the points smaller\n",
    "plt.show()"
   ]
  }
 ],
 "metadata": {
  "kernelspec": {
   "display_name": ".venv",
   "language": "python",
   "name": "python3"
  },
  "language_info": {
   "codemirror_mode": {
    "name": "ipython",
    "version": 3
   },
   "file_extension": ".py",
   "mimetype": "text/x-python",
   "name": "python",
   "nbconvert_exporter": "python",
   "pygments_lexer": "ipython3",
   "version": "3.12.4"
  }
 },
 "nbformat": 4,
 "nbformat_minor": 2
}
