{
 "cells": [
  {
   "cell_type": "code",
   "execution_count": null,
   "metadata": {},
   "outputs": [],
   "source": [
    "import process_3dm_file\n",
    "import numpy as np\n",
    "import matplotlib.pyplot as plt\n",
    "\n",
    "SAMPLES = 32768\n",
    "\n",
    "file_path = \"\"\n",
    "vertices = np.array(process_3dm_file.load_from_json(file_path))"
   ]
  },
  {
   "cell_type": "code",
   "execution_count": null,
   "metadata": {},
   "outputs": [],
   "source": [
    "if SAMPLES != -1:\n",
    "    # if vertices has less than x vertices, pad with zeros\n",
    "    if len(vertices) < SAMPLES:\n",
    "        vertices += [[0, 0, 0]] * (SAMPLES - len(vertices))\n",
    "    # select x random vertices\n",
    "    vertices = vertices[np.random.choice(vertices.shape[0], SAMPLES, replace=False)]\n",
    "\n",
    "vertices = vertices[::10]"
   ]
  },
  {
   "cell_type": "code",
   "execution_count": null,
   "metadata": {},
   "outputs": [],
   "source": [
    "fig = plt.figure()\n",
    "ax = fig.add_subplot(111, projection='3d')\n",
    "sc = ax.scatter(vertices[:,0], vertices[:,1], vertices[:,2], c=vertices[:,2], cmap='viridis', s=0.1)  # Adjust the value of 's' to make the points smaller\n",
    "# plt.colorbar(sc, ax=ax, label='Depth (z-coordinate)')\n",
    "plt.show()"
   ]
  }
 ],
 "metadata": {
  "language_info": {
   "name": "python"
  }
 },
 "nbformat": 4,
 "nbformat_minor": 2
}
