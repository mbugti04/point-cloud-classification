{
 "cells": [
  {
   "cell_type": "code",
   "execution_count": null,
   "metadata": {},
   "outputs": [],
   "source": [
    "import os\n",
    "import zipfile\n",
    "import shutil\n",
    "\n",
    "# Path to the folder containing the zip files\n",
    "folder_path = r'C:\\Users\\musta\\Downloads\\BOS_H_4_BldgModels_OBJ\\objz'\n",
    "\n",
    "combined_obj = ''\n",
    "\n",
    "# Iterate over each zip file in the folder\n",
    "for file_name in os.listdir(folder_path):\n",
    "    if file_name.endswith('.zip'):\n",
    "        zip_path = os.path.join(folder_path, file_name)\n",
    "        \n",
    "        # Extract the zip file to a temporary folder\n",
    "        temp_folder = os.path.splitext(zip_path)[0]\n",
    "        with zipfile.ZipFile(zip_path, 'r') as zip_ref:\n",
    "            zip_ref.extractall(temp_folder)\n",
    "        \n",
    "        # Combine all the obj files\n",
    "        combined_obj = ''\n",
    "        for root, dirs, files in os.walk(temp_folder):\n",
    "            for file in files:\n",
    "                if file.endswith('.obj'):\n",
    "                    obj_path = os.path.join(root, file)\n",
    "                    with open(obj_path, 'r') as obj_file:\n",
    "                        combined_obj += obj_file.read()\n",
    "        \n",
    "        # Do something with the combined obj file\n",
    "        # print(combined_obj)\n",
    "        \n",
    "        # Clean up the temporary folder\n",
    "        # shutil.rmtree(temp_folder)\n",
    "        # os.removedirs(temp_folder)\n",
    "\n",
    "        # break"
   ]
  },
  {
   "cell_type": "code",
   "execution_count": null,
   "metadata": {},
   "outputs": [],
   "source": [
    "import os\n",
    "\n",
    "# Path to the folder containing the zip files\n",
    "folder_path = r'C:\\Users\\musta\\Downloads\\BOS_H_4_BldgModels_OBJ\\objz'\n",
    "\n",
    "combined_obj = ''\n",
    "\n",
    "# Iterate over each folder in the folder_path\n",
    "for folder_name in os.listdir(folder_path):\n",
    "    folder_dir = os.path.join(folder_path, folder_name)\n",
    "    \n",
    "    # Check if it is a directory\n",
    "    if os.path.isdir(folder_dir):\n",
    "        # Iterate over each file in the folder\n",
    "        for file_name in os.listdir(folder_dir):\n",
    "            if file_name.endswith('.obj'):\n",
    "                obj_path = os.path.join(folder_dir, file_name)\n",
    "                with open(obj_path, 'r') as obj_file:\n",
    "                    combined_obj += obj_file.read()\n",
    "\n",
    "# Do something with the combined obj file\n",
    "# print(combined_obj)"
   ]
  },
  {
   "cell_type": "code",
   "execution_count": null,
   "metadata": {},
   "outputs": [],
   "source": [
    "print(combined_obj)"
   ]
  },
  {
   "cell_type": "code",
   "execution_count": null,
   "metadata": {
    "vscode": {
     "languageId": "shellscript"
    }
   },
   "outputs": [],
   "source": [
    "import trimesh\n",
    "\n",
    "import matplotlib.pyplot as plt\n",
    "\n",
    "# Load the OBJ file\n",
    "mesh = trimesh.load_mesh(r'C:\\Users\\musta\\Downloads\\BOS_H_4_BldgModels_OBJ\\objz\\BOS-0U5SD-ZZ7IE-QM831_OBJ\\BOS-0U5SD-ZZ7IE-QM831.obj')\n",
    "\n",
    "# Plot the mesh\n",
    "mesh.show()\n",
    "\n",
    "# Show the plot\n",
    "# plt.show()"
   ]
  },
  {
   "cell_type": "code",
   "execution_count": null,
   "metadata": {
    "vscode": {
     "languageId": "shellscript"
    }
   },
   "outputs": [],
   "source": [
    "import matplotlib.pyplot as plt\n",
    "from mpl_toolkits.mplot3d import Axes3D\n",
    "\n",
    "# Plot the mesh in 3D\n",
    "fig = plt.figure()\n",
    "ax = fig.add_subplot(111, projection='3d')\n",
    "ax.plot_trisurf(mesh.vertices[:, 0], mesh.vertices[:, 1], mesh.vertices[:, 2], triangles=mesh.faces)\n",
    "ax.set_xlabel('X')\n",
    "ax.set_ylabel('Y')\n",
    "ax.set_zlabel('Z')\n",
    "ax.set_title('Mesh Plot in 3D')\n",
    "plt.show()\n",
    "\n",
    "# # Plot the mesh\n",
    "# plt.figure()\n",
    "# plt.triplot(mesh.vertices[:, 0], mesh.vertices[:, 1], mesh.faces)\n",
    "# plt.xlabel('X')\n",
    "# plt.ylabel('Y')\n",
    "# plt.title('Mesh Plot')\n",
    "# plt.show()"
   ]
  }
 ],
 "metadata": {
  "kernelspec": {
   "display_name": ".venv",
   "language": "python",
   "name": "python3"
  },
  "language_info": {
   "codemirror_mode": {
    "name": "ipython",
    "version": 3
   },
   "file_extension": ".py",
   "mimetype": "text/x-python",
   "name": "python",
   "nbconvert_exporter": "python",
   "pygments_lexer": "ipython3",
   "version": "3.12.4"
  }
 },
 "nbformat": 4,
 "nbformat_minor": 2
}
